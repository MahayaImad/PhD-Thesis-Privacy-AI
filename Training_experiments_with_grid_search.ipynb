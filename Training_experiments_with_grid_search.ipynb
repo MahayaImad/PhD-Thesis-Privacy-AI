{
 "cells": [
  {
   "cell_type": "markdown",
   "metadata": {
    "id": "Aamtd6HN_vvz"
   },
   "source": [
    "## Parameters"
   ]
  },
  {
   "cell_type": "code",
   "execution_count": null,
   "metadata": {
    "executionInfo": {
     "elapsed": 44,
     "status": "ok",
     "timestamp": 1744755981228,
     "user": {
      "displayName": "Imad MAHAYA",
      "userId": "13113892027427483374"
     },
     "user_tz": -60
    },
    "id": "h37MJzsY_yIS"
   },
   "outputs": [],
   "source": [
    "# \"convnext\" \"densenet\" \"efficientnet\" \"efficientnet_v2\"\"inception_resnet_v2\"\"inception_v3\"\"mobilenet_v3\" \"resnet50\" \"resnet_v2\" \"vgg16\" \"vgg19\" \"xception\"\n",
    "MODEL_ARCHITECTURE = \"mobilenet_v3\"\n",
    "EPOCHS = 10\n",
    "TRANFERT_LEARNING =True\n",
    "#==============================#\n",
    "\n",
    "DATASET = \"pathmnist_128\"\n",
    "INPUT_SHAPE = (128, 128, 3)\n",
    "CLASSES = 9\n",
    "#==============================#\n",
    "param_grid = {\n",
    "    \"learning_rate\": [1e-4, 1e-3],\n",
    "    \"batch_size\": [32, 64, 128],\n",
    "    \"optimizer\": [\"adam\", \"sgd\"],\n",
    "    \"dropout\": [0.2, 0.3, 0.4, 0.5],\n",
    "    \"dense_units\": [64, 128, 256]\n",
    "}\n",
    "#==============================#\n",
    "base_path = '/content/drive/MyDrive/ColabNotebooks/phd-thesis'"
   ]
  },
  {
   "cell_type": "markdown",
   "metadata": {
    "id": "0T90qqqABXRm"
   },
   "source": [
    "## Importing Libraries"
   ]
  },
  {
   "cell_type": "code",
   "execution_count": null,
   "metadata": {
    "colab": {
     "base_uri": "https://localhost:8080/"
    },
    "executionInfo": {
     "elapsed": 1309,
     "status": "ok",
     "timestamp": 1744755989290,
     "user": {
      "displayName": "Imad MAHAYA",
      "userId": "13113892027427483374"
     },
     "user_tz": -60
    },
    "id": "1nL7JN7XBWlH",
    "outputId": "c57f5710-31d5-4ecb-d602-db1d1feaee64"
   },
   "outputs": [
    {
     "name": "stdout",
     "output_type": "stream",
     "text": [
      "Drive already mounted at /content/drive; to attempt to forcibly remount, call drive.mount(\"/content/drive\", force_remount=True).\n"
     ]
    }
   ],
   "source": [
    "from google.colab import drive\n",
    "drive.mount('/content/drive')\n",
    "\n",
    "import os\n",
    "import sys\n",
    "import tensorflow\n",
    "import pandas as pd\n",
    "from datetime import datetime\n",
    "\n",
    "from sklearn.model_selection import ParameterGrid\n",
    "from tensorflow.keras.models import load_model\n",
    "sys.path.append(f'{base_path}/lib')\n",
    "\n",
    "#importing helpers\n",
    "from import_pathmnist_dataset import PathMNISTLoader\n",
    "from create_model import create_model\n",
    "from import_callbacks import get_callbacks\n",
    "from helper_saving import save_training\n",
    "\n",
    "experiment_info = {\n",
    "    \"model\" : MODEL_ARCHITECTURE,\n",
    "    \"dataset\" : DATASET,\n",
    "    \"mode\" : \"Local\",\n",
    "    \"run_time\" : datetime.now().strftime(\"%Y-%m-%d %H:%M:%S\")\n",
    "}"
   ]
  },
  {
   "cell_type": "markdown",
   "metadata": {
    "id": "uBhjEC2FB_hh"
   },
   "source": [
    "## Import Dataset"
   ]
  },
  {
   "cell_type": "code",
   "execution_count": 3,
   "metadata": {
    "colab": {
     "base_uri": "https://localhost:8080/"
    },
    "executionInfo": {
     "elapsed": 201540,
     "status": "ok",
     "timestamp": 1744752898053,
     "user": {
      "displayName": "Imad MAHAYA",
      "userId": "13113892027427483374"
     },
     "user_tz": -60
    },
    "id": "1Bl5ShBqCGYB",
    "outputId": "1fd5d96e-19c9-453b-8f66-18425aae1780"
   },
   "outputs": [
    {
     "name": "stdout",
     "output_type": "stream",
     "text": [
      "Downloading dataset to datasets/pathmnist_128.npz...\n",
      "Download complete.\n",
      "Loaded data keys: ['train_images', 'train_labels', 'val_images', 'val_labels', 'test_images', 'test_labels']\n",
      "Train: (89996, 128, 128, 3) (89996, 1)\n",
      "Validation: (10004, 128, 128, 3) (10004, 1)\n",
      "Test: (7180, 128, 128, 3) (7180, 1)\n"
     ]
    }
   ],
   "source": [
    "loader = PathMNISTLoader(filename= DATASET, num_classes= CLASSES, batch_size= 64)\n",
    "train_ds, val_ds, test_ds = loader.get_datasets()"
   ]
  },
  {
   "cell_type": "markdown",
   "metadata": {
    "id": "unR5jRnhQE-0"
   },
   "source": [
    "## Train and Save Results"
   ]
  },
  {
   "cell_type": "code",
   "execution_count": null,
   "metadata": {
    "colab": {
     "base_uri": "https://localhost:8080/"
    },
    "id": "FaBkiFw20aKp",
    "outputId": "c2a7138f-3014-493d-eb25-b7c3cb4dd417"
   },
   "outputs": [],
   "source": [
    "# Initialize an empty list to collect results\n",
    "results = []\n",
    "\n",
    "for i,config in enumerate(ParameterGrid(param_grid)):\n",
    "  model = create_model(\n",
    "    architecture=MODEL_ARCHITECTURE,\n",
    "    input_shape=INPUT_SHAPE,\n",
    "    num_classes=CLASSES,\n",
    "    dropout_rate=config['dropout'],\n",
    "    learning_rate=config['learning_rate'],\n",
    "    optimizer=config['optimizer'],\n",
    "    dense_units=config['dense_units'],\n",
    "    freeze_base=TRANFERT_LEARNING\n",
    "    )\n",
    "  # Get callbacks\n",
    "  callbacks = get_callbacks(\n",
    "      model_name = f'{MODEL_ARCHITECTURE}_{DATASET}_{datetime.now().strftime(\"%Y-%m-%d\")}_{i}',\n",
    "      checkpoint_dir = os.path.join(base_path, MODEL_ARCHITECTURE,'models'),\n",
    "      )\n",
    "\n",
    "  # Train the model\n",
    "  history = model.fit(\n",
    "      train_ds,\n",
    "      validation_data=val_ds,\n",
    "      epochs=20,\n",
    "      callbacks=callbacks,\n",
    "      verbose=2,\n",
    "  )\n",
    "\n",
    "  SAVE_PATH=os.path.join(base_path, MODEL_ARCHITECTURE,'results', f'{MODEL_ARCHITECTURE}_{DATASET}_{datetime.now().strftime(\"%Y-%m-%d\")}_{i}.xlsx')\n",
    "  save_training(save_path=SAVE_PATH,model=model,history = history,hyperparams=config,experiment_info=experiment_info)\n",
    "\n",
    "  model = load_model(os.path.join(base_path, MODEL_ARCHITECTURE,'models',f'{MODEL_ARCHITECTURE}_{DATASET}_{datetime.now().strftime(\"%Y-%m-%d\")}_{i}.keras'))\n",
    "  # Evaluate on the test set\n",
    "  test_loss, test_accuracy = model.evaluate(test_ds)\n",
    "\n",
    "  # Get best validation accuracy & loss\n",
    "  best_val_acc = max(history.history[\"val_accuracy\"])\n",
    "  best_val_loss = min(history.history[\"val_loss\"])\n",
    "\n",
    "  # Log all info into a result dictionary\n",
    "  result_record = {\n",
    "      \"model\": MODEL_ARCHITECTURE,\n",
    "      \"run_id\": i,\n",
    "      \"test_accuracy\": test_accuracy,\n",
    "      \"test_loss\": test_loss,\n",
    "      \"best_val_accuracy\": best_val_acc,\n",
    "      \"best_val_loss\": best_val_loss,\n",
    "      **config  # unpack all hyperparameters\n",
    "  }\n",
    "  results.append(result_record)\n",
    "\n",
    "results_df = pd.DataFrame(results)\n",
    "results_df.to_excel(os.path.join(base_path, MODEL_ARCHITECTURE,'results', f'{MODEL_ARCHITECTURE}_{DATASET}_{datetime.now().strftime(\"%Y-%m-%d\")}.xlsx'), index=False)\n"
   ]
  }
 ],
 "metadata": {
  "accelerator": "GPU",
  "colab": {
   "authorship_tag": "ABX9TyMI7clKgXjqCZoyS5gZA/c7",
   "gpuType": "A100",
   "machine_shape": "hm",
   "mount_file_id": "12bEPGpQKoZ11V5f6x1WPWTq-V6JePKpA",
   "provenance": []
  },
  "kernelspec": {
   "display_name": "Python 3",
   "name": "python3"
  },
  "language_info": {
   "name": "python"
  }
 },
 "nbformat": 4,
 "nbformat_minor": 0
}
